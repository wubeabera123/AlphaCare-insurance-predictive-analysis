{
 "cells": [
  {
   "cell_type": "markdown",
   "metadata": {},
   "source": [
    "# Import the necessary libraries"
   ]
  },
  {
   "cell_type": "code",
   "execution_count": 7,
   "metadata": {},
   "outputs": [],
   "source": [
    "import pandas as pd\n",
    "import sys\n",
    "import os\n",
    "import matplotlib.pyplot as plt\n",
    "import seaborn as sns\n",
    "\n",
    "sys.path.append(os.path.abspath(os.path.join(os.getcwd(), '../scripts')))\n",
    "from load_data import Load_Data\n",
    "from sklearn.preprocessing import LabelEncoder\n"
   ]
  },
  {
   "cell_type": "markdown",
   "metadata": {},
   "source": [
    "# Load data"
   ]
  },
  {
   "cell_type": "code",
   "execution_count": 8,
   "metadata": {},
   "outputs": [
    {
     "name": "stderr",
     "output_type": "stream",
     "text": [
      "c:\\Users\\wubeshet.abera\\Projects\\Ten-Academy\\updated-insurance\\v3\\AlphaCare-insurance-predictive-analysis\\scripts\\load_data.py:11: DtypeWarning: Columns (32) have mixed types. Specify dtype option on import or set low_memory=False.\n",
      "  self.data = pd.read_csv(self.file_path)\n"
     ]
    },
    {
     "name": "stdout",
     "output_type": "stream",
     "text": [
      "Data successfully loaded from ../data/cleanded_data_set.csv\n"
     ]
    }
   ],
   "source": [
    "# Create an instance of CSVReader\n",
    "csv_reader = Load_Data('../data/cleanded_data_set.csv')\n",
    "\n",
    "# Load the data\n",
    "csv_reader.load_data()\n",
    "\n",
    "# Get the loaded data\n",
    "df = csv_reader.get_data()\n",
    "\n",
    "# Now, you can use raw_data as needed"
   ]
  },
  {
   "cell_type": "markdown",
   "metadata": {},
   "source": [
    "# Data encoding"
   ]
  },
  {
   "cell_type": "markdown",
   "metadata": {},
   "source": [
    "### Categorical and Numerical columns"
   ]
  },
  {
   "cell_type": "code",
   "execution_count": 9,
   "metadata": {},
   "outputs": [
    {
     "name": "stdout",
     "output_type": "stream",
     "text": [
      "Categorical columns: Index(['TransactionMonth', 'Citizenship', 'LegalType', 'Title', 'Language',\n",
      "       'Bank', 'AccountType', 'MaritalStatus', 'Gender', 'Country', 'Province',\n",
      "       'MainCrestaZone', 'SubCrestaZone', 'ItemType', 'VehicleType', 'make',\n",
      "       'Model', 'bodytype', 'VehicleIntroDate', 'AlarmImmobiliser',\n",
      "       'TrackingDevice', 'CapitalOutstanding', 'NewVehicle', 'WrittenOff',\n",
      "       'Rebuilt', 'Converted', 'CrossBorder', 'TermFrequency',\n",
      "       'ExcessSelected', 'CoverCategory', 'CoverType', 'CoverGroup', 'Section',\n",
      "       'Product', 'StatutoryClass', 'StatutoryRiskType'],\n",
      "      dtype='object')\n",
      "Numerical columns: Index(['UnderwrittenCoverID', 'PolicyID', 'PostalCode', 'mmcode',\n",
      "       'RegistrationYear', 'Cylinders', 'cubiccapacity', 'kilowatts',\n",
      "       'NumberOfDoors', 'CustomValueEstimate', 'NumberOfVehiclesInFleet',\n",
      "       'SumInsured', 'CalculatedPremiumPerTerm', 'TotalPremium', 'TotalClaims',\n",
      "       'Margin', 'IsProfitable'],\n",
      "      dtype='object')\n"
     ]
    }
   ],
   "source": [
    "# Separate categorical and numerical columns\n",
    "categorical_columns = df.select_dtypes(include=['object', 'category']).columns\n",
    "numerical_columns = df.select_dtypes(include=['number']).columns\n",
    "\n",
    "# Display the lists of categorical and numerical columns\n",
    "print(\"Categorical columns:\", categorical_columns)\n",
    "print(\"Numerical columns:\", numerical_columns)\n"
   ]
  },
  {
   "cell_type": "markdown",
   "metadata": {},
   "source": [
    "### Encoding Gender"
   ]
  },
  {
   "cell_type": "code",
   "execution_count": 10,
   "metadata": {},
   "outputs": [
    {
     "name": "stdout",
     "output_type": "stream",
     "text": [
      "  Gender  gender_encoded\n",
      "0   Male               1\n",
      "1   Male               1\n",
      "2   Male               1\n",
      "3   Male               1\n",
      "4   Male               1\n"
     ]
    }
   ],
   "source": [
    "\n",
    "# Create a LabelEncoder instance\n",
    "label_encoder = LabelEncoder()\n",
    "\n",
    "# Assuming 'gender' is a categorical column in your DataFrame\n",
    "df['gender_encoded'] = label_encoder.fit_transform(df['Gender'])\n",
    "\n",
    "# Print the first few rows to check the result\n",
    "print(df[['Gender', 'gender_encoded']].head())"
   ]
  },
  {
   "cell_type": "markdown",
   "metadata": {},
   "source": [
    "### Encoding Province"
   ]
  },
  {
   "cell_type": "code",
   "execution_count": 11,
   "metadata": {},
   "outputs": [
    {
     "name": "stdout",
     "output_type": "stream",
     "text": [
      "  Province  province_encoded\n",
      "0  Gauteng                 2\n",
      "1  Gauteng                 2\n",
      "2  Gauteng                 2\n",
      "3  Gauteng                 2\n",
      "4  Gauteng                 2\n"
     ]
    }
   ],
   "source": [
    "# Create a LabelEncoder instance\n",
    "label_encoder = LabelEncoder()\n",
    "\n",
    "# Assuming 'Province' is a categorical column in your DataFrame\n",
    "df['province_encoded'] = label_encoder.fit_transform(df['Province'])\n",
    "\n",
    "# Print the first few rows to check the result\n",
    "print(df[['Province', 'province_encoded']].head())\n"
   ]
  },
  {
   "cell_type": "markdown",
   "metadata": {},
   "source": [
    "### Encoding Covertype"
   ]
  },
  {
   "cell_type": "code",
   "execution_count": 12,
   "metadata": {},
   "outputs": [
    {
     "name": "stdout",
     "output_type": "stream",
     "text": [
      "    CoverType  covertype_encoded\n",
      "0  Windscreen                 21\n",
      "1  Windscreen                 21\n",
      "2  Windscreen                 21\n",
      "3  Own Damage                 13\n",
      "4  Own Damage                 13\n"
     ]
    }
   ],
   "source": [
    "# Create a LabelEncoder instance\n",
    "label_encoder = LabelEncoder()\n",
    "\n",
    "# Assuming 'Province' is a categorical column in your DataFrame\n",
    "df['covertype_encoded'] = label_encoder.fit_transform(df['CoverType'])\n",
    "\n",
    "# Print the first few rows to check the result\n",
    "print(df[['CoverType', 'covertype_encoded']].head())\n"
   ]
  },
  {
   "cell_type": "markdown",
   "metadata": {},
   "source": [
    "### Encoding vehicle type"
   ]
  },
  {
   "cell_type": "code",
   "execution_count": 13,
   "metadata": {},
   "outputs": [
    {
     "name": "stdout",
     "output_type": "stream",
     "text": [
      "         VehicleType  vehicletype_encoded\n",
      "0  Passenger Vehicle                    4\n",
      "1  Passenger Vehicle                    4\n",
      "2  Passenger Vehicle                    4\n",
      "3  Passenger Vehicle                    4\n",
      "4  Passenger Vehicle                    4\n"
     ]
    }
   ],
   "source": [
    "# Create a LabelEncoder instance\n",
    "label_encoder = LabelEncoder()\n",
    "\n",
    "# Assuming 'Province' is a categorical column in your DataFrame\n",
    "df['vehicletype_encoded'] = label_encoder.fit_transform(df['VehicleType'])\n",
    "\n",
    "# Print the first few rows to check the result\n",
    "print(df[['VehicleType', 'vehicletype_encoded']].head())\n"
   ]
  },
  {
   "cell_type": "markdown",
   "metadata": {},
   "source": [
    "### Encoding make"
   ]
  },
  {
   "cell_type": "code",
   "execution_count": 14,
   "metadata": {},
   "outputs": [
    {
     "name": "stdout",
     "output_type": "stream",
     "text": [
      "            make  make_encoded\n",
      "0  MERCEDES-BENZ            28\n",
      "1  MERCEDES-BENZ            28\n",
      "2  MERCEDES-BENZ            28\n",
      "3  MERCEDES-BENZ            28\n",
      "4  MERCEDES-BENZ            28\n"
     ]
    }
   ],
   "source": [
    "# Create a LabelEncoder instance\n",
    "label_encoder = LabelEncoder()\n",
    "\n",
    "# Assuming 'Province' is a categorical column in your DataFrame\n",
    "df['make_encoded'] = label_encoder.fit_transform(df['make'])\n",
    "\n",
    "# Print the first few rows to check the result\n",
    "print(df[['make', 'make_encoded']].head())\n"
   ]
  },
  {
   "cell_type": "markdown",
   "metadata": {},
   "source": [
    "### Encoding tracking device"
   ]
  },
  {
   "cell_type": "code",
   "execution_count": 15,
   "metadata": {},
   "outputs": [
    {
     "name": "stdout",
     "output_type": "stream",
     "text": [
      "  TrackingDevice  trackingdevice_encoded\n",
      "0             No                       0\n",
      "1             No                       0\n",
      "2             No                       0\n",
      "3             No                       0\n",
      "4             No                       0\n"
     ]
    }
   ],
   "source": [
    "# Create a LabelEncoder instance\n",
    "label_encoder = LabelEncoder()\n",
    "\n",
    "# Assuming 'Province' is a categorical column in your DataFrame\n",
    "df['trackingdevice_encoded'] = label_encoder.fit_transform(df['TrackingDevice'])\n",
    "\n",
    "# Print the first few rows to check the result\n",
    "print(df[['TrackingDevice', 'trackingdevice_encoded']].head())\n"
   ]
  }
 ],
 "metadata": {
  "kernelspec": {
   "display_name": "venv",
   "language": "python",
   "name": "python3"
  },
  "language_info": {
   "codemirror_mode": {
    "name": "ipython",
    "version": 3
   },
   "file_extension": ".py",
   "mimetype": "text/x-python",
   "name": "python",
   "nbconvert_exporter": "python",
   "pygments_lexer": "ipython3",
   "version": "3.12.3"
  }
 },
 "nbformat": 4,
 "nbformat_minor": 2
}
