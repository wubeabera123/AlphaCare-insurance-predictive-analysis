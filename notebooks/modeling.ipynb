{
 "cells": [
  {
   "cell_type": "markdown",
   "metadata": {},
   "source": [
    "# Import the necessary libraries"
   ]
  },
  {
   "cell_type": "code",
   "execution_count": 8,
   "metadata": {},
   "outputs": [],
   "source": [
    "import pandas as pd\n",
    "import sys\n",
    "import os\n",
    "import matplotlib.pyplot as plt\n",
    "import seaborn as sns\n",
    "import numpy as np\n",
    "\n",
    "\n",
    "sys.path.append(os.path.abspath(os.path.join(os.getcwd(), '../scripts')))\n",
    "from load_data import Load_Data\n",
    "from sklearn.preprocessing import LabelEncoder\n",
    "from sklearn.model_selection import train_test_split\n",
    "from sklearn.linear_model import LinearRegression\n",
    "from sklearn.metrics import mean_squared_error, r2_score\n",
    "from sklearn.ensemble import RandomForestRegressor\n",
    "from lime.lime_tabular import LimeTabularExplainer\n",
    "from sklearn.linear_model import LinearRegression\n"
   ]
  },
  {
   "cell_type": "markdown",
   "metadata": {},
   "source": [
    "# Load data"
   ]
  },
  {
   "cell_type": "code",
   "execution_count": 9,
   "metadata": {},
   "outputs": [
    {
     "name": "stderr",
     "output_type": "stream",
     "text": [
      "c:\\Users\\wubeshet.abera\\Projects\\Ten-Academy\\updated-insurance\\v3\\AlphaCare-insurance-predictive-analysis\\scripts\\load_data.py:11: DtypeWarning: Columns (32) have mixed types. Specify dtype option on import or set low_memory=False.\n",
      "  self.data = pd.read_csv(self.file_path)\n"
     ]
    },
    {
     "name": "stdout",
     "output_type": "stream",
     "text": [
      "Data successfully loaded from ../data/cleanded_data_set.csv\n"
     ]
    }
   ],
   "source": [
    "# Create an instance of CSVReader\n",
    "csv_reader = Load_Data('../data/cleanded_data_set.csv')\n",
    "\n",
    "# Load the data\n",
    "csv_reader.load_data()\n",
    "\n",
    "# Get the loaded data\n",
    "df = csv_reader.get_data()\n",
    "\n",
    "# Now, you can use raw_data as needed"
   ]
  },
  {
   "cell_type": "code",
   "execution_count": 97,
   "metadata": {},
   "outputs": [
    {
     "name": "stdout",
     "output_type": "stream",
     "text": [
      "UnderwrittenCoverID               0\n",
      "PolicyID                          0\n",
      "TransactionMonth                  0\n",
      "IsVATRegistered                   0\n",
      "Citizenship                       0\n",
      "LegalType                         0\n",
      "Title                             0\n",
      "Language                          0\n",
      "Bank                              0\n",
      "AccountType                       0\n",
      "MaritalStatus                     0\n",
      "Gender                            0\n",
      "Country                           0\n",
      "Province                          0\n",
      "PostalCode                        0\n",
      "MainCrestaZone                    0\n",
      "SubCrestaZone                     0\n",
      "ItemType                          0\n",
      "mmcode                            0\n",
      "VehicleType                       0\n",
      "RegistrationYear                  0\n",
      "make                              0\n",
      "Model                             0\n",
      "Cylinders                         0\n",
      "cubiccapacity                     0\n",
      "kilowatts                         0\n",
      "bodytype                          0\n",
      "NumberOfDoors                     0\n",
      "VehicleIntroDate                  0\n",
      "CustomValueEstimate               0\n",
      "AlarmImmobiliser                  0\n",
      "TrackingDevice                    0\n",
      "CapitalOutstanding                0\n",
      "NewVehicle                        0\n",
      "WrittenOff                        0\n",
      "Rebuilt                           0\n",
      "Converted                         0\n",
      "CrossBorder                       0\n",
      "NumberOfVehiclesInFleet     1000098\n",
      "SumInsured                        0\n",
      "TermFrequency                     0\n",
      "CalculatedPremiumPerTerm          0\n",
      "ExcessSelected                    0\n",
      "CoverCategory                     0\n",
      "CoverType                         0\n",
      "CoverGroup                        0\n",
      "Section                           0\n",
      "Product                           0\n",
      "StatutoryClass                    0\n",
      "StatutoryRiskType                 0\n",
      "TotalPremium                      0\n",
      "TotalClaims                       0\n",
      "Margin                            0\n",
      "IsProfitable                      0\n",
      "dtype: int64\n"
     ]
    }
   ],
   "source": [
    "print(df.isnull().sum())"
   ]
  },
  {
   "cell_type": "markdown",
   "metadata": {},
   "source": [
    "# Categorical and Numerical columns"
   ]
  },
  {
   "cell_type": "code",
   "execution_count": 10,
   "metadata": {},
   "outputs": [
    {
     "name": "stdout",
     "output_type": "stream",
     "text": [
      "Categorical columns: Index(['TransactionMonth', 'Citizenship', 'LegalType', 'Title', 'Language',\n",
      "       'Bank', 'AccountType', 'MaritalStatus', 'Gender', 'Country', 'Province',\n",
      "       'MainCrestaZone', 'SubCrestaZone', 'ItemType', 'VehicleType', 'make',\n",
      "       'Model', 'bodytype', 'VehicleIntroDate', 'AlarmImmobiliser',\n",
      "       'TrackingDevice', 'CapitalOutstanding', 'NewVehicle', 'WrittenOff',\n",
      "       'Rebuilt', 'Converted', 'CrossBorder', 'TermFrequency',\n",
      "       'ExcessSelected', 'CoverCategory', 'CoverType', 'CoverGroup', 'Section',\n",
      "       'Product', 'StatutoryClass', 'StatutoryRiskType'],\n",
      "      dtype='object')\n",
      "Numerical columns: Index(['UnderwrittenCoverID', 'PolicyID', 'PostalCode', 'mmcode',\n",
      "       'RegistrationYear', 'Cylinders', 'cubiccapacity', 'kilowatts',\n",
      "       'NumberOfDoors', 'CustomValueEstimate', 'NumberOfVehiclesInFleet',\n",
      "       'SumInsured', 'CalculatedPremiumPerTerm', 'TotalPremium', 'TotalClaims',\n",
      "       'Margin', 'IsProfitable'],\n",
      "      dtype='object')\n",
      "Total number of columns: 54\n"
     ]
    }
   ],
   "source": [
    "# Separate categorical and numerical columns\n",
    "categorical_columns = df.select_dtypes(include=['object', 'category']).columns\n",
    "numerical_columns = df.select_dtypes(include=['number']).columns\n",
    "\n",
    "# Display the lists of categorical and numerical columns\n",
    "print(\"Categorical columns:\", categorical_columns)\n",
    "print(\"Numerical columns:\", numerical_columns)\n",
    "\n",
    "total_columns = df.shape[1]\n",
    "\n",
    "# Print the result\n",
    "print(f'Total number of columns: {total_columns}')\n"
   ]
  },
  {
   "cell_type": "code",
   "execution_count": 11,
   "metadata": {},
   "outputs": [
    {
     "name": "stdout",
     "output_type": "stream",
     "text": [
      "Index(['UnderwrittenCoverID', 'PolicyID', 'TransactionMonth',\n",
      "       'IsVATRegistered', 'Citizenship', 'LegalType', 'Title', 'Language',\n",
      "       'Bank', 'AccountType', 'MaritalStatus', 'Gender', 'Country', 'Province',\n",
      "       'PostalCode', 'MainCrestaZone', 'SubCrestaZone', 'ItemType', 'mmcode',\n",
      "       'VehicleType', 'RegistrationYear', 'make', 'Model', 'Cylinders',\n",
      "       'cubiccapacity', 'kilowatts', 'bodytype', 'NumberOfDoors',\n",
      "       'VehicleIntroDate', 'CustomValueEstimate', 'AlarmImmobiliser',\n",
      "       'TrackingDevice', 'CapitalOutstanding', 'NewVehicle', 'SumInsured',\n",
      "       'TermFrequency', 'CalculatedPremiumPerTerm', 'ExcessSelected',\n",
      "       'CoverCategory', 'CoverType', 'CoverGroup', 'Section', 'Product',\n",
      "       'StatutoryClass', 'StatutoryRiskType', 'TotalPremium', 'TotalClaims',\n",
      "       'Margin', 'IsProfitable'],\n",
      "      dtype='object')\n"
     ]
    }
   ],
   "source": [
    "# Drop the unwanted columns\n",
    "df = df.drop(columns=['WrittenOff', 'Rebuilt', 'Converted', 'CrossBorder', 'NumberOfVehiclesInFleet'])\n",
    "\n",
    "# Confirm the columns are removed\n",
    "print(df.columns)\n"
   ]
  },
  {
   "cell_type": "markdown",
   "metadata": {},
   "source": [
    "# Encoding Categorical data"
   ]
  },
  {
   "cell_type": "code",
   "execution_count": 12,
   "metadata": {},
   "outputs": [
    {
     "name": "stdout",
     "output_type": "stream",
     "text": [
      "   UnderwrittenCoverID  PolicyID  TransactionMonth  IsVATRegistered  \\\n",
      "0               145249     12827                17             True   \n",
      "1               145249     12827                19             True   \n",
      "2               145249     12827                21             True   \n",
      "3               145255     12827                19             True   \n",
      "4               145255     12827                21             True   \n",
      "\n",
      "   Citizenship  LegalType  Title  Language  Bank  AccountType  ...  CoverType  \\\n",
      "0            0          0      2         0     2            0  ...         21   \n",
      "1            0          0      2         0     2            0  ...         21   \n",
      "2            0          0      2         0     2            0  ...         21   \n",
      "3            0          0      2         0     2            0  ...         13   \n",
      "4            0          0      2         0     2            0  ...         13   \n",
      "\n",
      "   CoverGroup  Section  Product  StatutoryClass  StatutoryRiskType  \\\n",
      "0           5        1        2               0                  0   \n",
      "1           5        1        2               0                  0   \n",
      "2           5        1        2               0                  0   \n",
      "3           5        1        2               0                  0   \n",
      "4           5        1        2               0                  0   \n",
      "\n",
      "   TotalPremium  TotalClaims      Margin  IsProfitable  \n",
      "0     21.929825          0.0   21.929825             1  \n",
      "1     21.929825          0.0   21.929825             1  \n",
      "2      0.000000          0.0    0.000000             0  \n",
      "3    512.848070          0.0  512.848070             1  \n",
      "4      0.000000          0.0    0.000000             0  \n",
      "\n",
      "[5 rows x 49 columns]\n"
     ]
    }
   ],
   "source": [
    "from sklearn.preprocessing import LabelEncoder\n",
    "\n",
    "# List of columns to encode\n",
    "label_enc_cols = ['TransactionMonth', 'Citizenship', 'LegalType', 'Title', 'Language', 'Bank', 'AccountType',\n",
    "                  'MaritalStatus', 'Gender', 'Country', 'Province', 'MainCrestaZone', 'SubCrestaZone', 'ItemType',\n",
    "                  'VehicleType', 'make', 'Model', 'bodytype', 'VehicleIntroDate', 'AlarmImmobiliser',\n",
    "                  'TrackingDevice', 'CapitalOutstanding', 'NewVehicle', 'TermFrequency', 'ExcessSelected',\n",
    "                  'CoverCategory', 'CoverType', 'CoverGroup', 'Section', 'Product', 'StatutoryClass', 'StatutoryRiskType']\n",
    "\n",
    "# Iterate over the columns to perform label encoding\n",
    "for col in label_enc_cols:\n",
    "    # Convert all data in the column to strings to avoid mixed data types\n",
    "    df[col] = df[col].astype(str)\n",
    "    \n",
    "    # Handle missing or undefined values (optional but recommended)\n",
    "    df[col] = df[col].fillna('unknown')\n",
    "    \n",
    "    # Apply label encoding\n",
    "    le = LabelEncoder()\n",
    "    df[col] = le.fit_transform(df[col])\n",
    "\n",
    "# Now your categorical columns are uniformly encoded.\n",
    "print(df.head())\n"
   ]
  },
  {
   "cell_type": "code",
   "execution_count": 13,
   "metadata": {},
   "outputs": [
    {
     "name": "stdout",
     "output_type": "stream",
     "text": [
      "Non-numeric columns: Index(['TransactionMonth', 'Citizenship', 'LegalType', 'Title', 'Language',\n",
      "       'Bank', 'AccountType', 'MaritalStatus', 'Gender', 'Country', 'Province',\n",
      "       'MainCrestaZone', 'SubCrestaZone', 'ItemType', 'VehicleType', 'make',\n",
      "       'Model', 'bodytype', 'VehicleIntroDate', 'AlarmImmobiliser',\n",
      "       'TrackingDevice', 'CapitalOutstanding', 'NewVehicle', 'WrittenOff',\n",
      "       'Rebuilt', 'Converted', 'CrossBorder', 'TermFrequency',\n",
      "       'ExcessSelected', 'CoverCategory', 'CoverType', 'CoverGroup', 'Section',\n",
      "       'Product', 'StatutoryClass', 'StatutoryRiskType'],\n",
      "      dtype='object')\n"
     ]
    }
   ],
   "source": [
    "# Check for non-numeric columns in X_train\n",
    "non_numeric_columns = X_train.select_dtypes(include=['object']).columns\n",
    "\n",
    "print(f\"Non-numeric columns: {non_numeric_columns}\")\n",
    "\n",
    "\n"
   ]
  },
  {
   "cell_type": "markdown",
   "metadata": {},
   "source": [
    "# Splitting data "
   ]
  },
  {
   "cell_type": "code",
   "execution_count": 14,
   "metadata": {},
   "outputs": [
    {
     "name": "stdout",
     "output_type": "stream",
     "text": [
      "Training data: X_train: (800078, 46), y_train: (800078,)\n",
      "Testing data: X_test: (200020, 46), y_test: (200020,)\n"
     ]
    }
   ],
   "source": [
    "\n",
    "# Assuming you've calculated 'Margin' as:\n",
    "df['Margin'] = df['TotalPremium'] - df['TotalClaims']\n",
    "\n",
    "# Select features (X) and target (y)\n",
    "# Features should include all encoded categorical and numerical columns except the target columns\n",
    "# We'll drop only the target columns (TotalPremium, TotalClaims, Margin) from the features\n",
    "X = df.drop(['TotalPremium', 'TotalClaims', 'Margin'], axis=1)  # Features include encoded categorical and numerical data\n",
    "y = df['Margin']  # Target\n",
    "\n",
    "# Split the data (using 80% for training and 20% for testing)\n",
    "X_train, X_test, y_train, y_test = train_test_split(X, y, test_size=0.2, random_state=42)\n",
    "\n",
    "# Print the shapes to verify the split\n",
    "print(f\"Training data: X_train: {X_train.shape}, y_train: {y_train.shape}\")\n",
    "print(f\"Testing data: X_test: {X_test.shape}, y_test: {y_test.shape}\")\n",
    "\n",
    "\n"
   ]
  },
  {
   "cell_type": "markdown",
   "metadata": {},
   "source": [
    " # Model Building - Linear Regression"
   ]
  },
  {
   "cell_type": "code",
   "execution_count": 17,
   "metadata": {},
   "outputs": [
    {
     "name": "stdout",
     "output_type": "stream",
     "text": [
      "Mean Squared Error: 4828022.6916774465\n",
      "R-Squared: 0.0044567883495806315\n"
     ]
    }
   ],
   "source": [
    "linear_model = LinearRegression()\n",
    "\n",
    "# Train the model using X_train and y_train\n",
    "linear_model.fit(X_train, y_train)\n",
    "\n",
    "# Make predictions using the testing set\n",
    "y_pred = linear_model.predict(X_test)\n",
    "\n",
    "# Evaluate the model\n",
    "mse = mean_squared_error(y_test, y_pred)\n",
    "r2 = r2_score(y_test, y_pred)\n",
    "\n",
    "print(f\"Mean Squared Error: {mse}\")\n",
    "print(f\"R-Squared: {r2}\")\n"
   ]
  },
  {
   "cell_type": "markdown",
   "metadata": {},
   "source": [
    "# Model Building - Random Forest"
   ]
  },
  {
   "cell_type": "code",
   "execution_count": 16,
   "metadata": {},
   "outputs": [
    {
     "name": "stdout",
     "output_type": "stream",
     "text": [
      "Random Forest Mean Squared Error: 4837494.983934639\n",
      "Random Forest R-Squared: 0.002503592008628708\n"
     ]
    }
   ],
   "source": [
    "# Initialize the Random Forest model\n",
    "rf_model = RandomForestRegressor(n_estimators=100, random_state=42)\n",
    "\n",
    "# Train the model\n",
    "rf_model.fit(X_train, y_train)\n",
    "\n",
    "# Make predictions using the test set\n",
    "y_pred_rf = rf_model.predict(X_test)\n",
    "\n",
    "# Evaluate the model\n",
    "mse_rf = mean_squared_error(y_test, y_pred_rf)\n",
    "r2_rf = r2_score(y_test, y_pred_rf)\n",
    "\n",
    "print(f\"Random Forest Mean Squared Error: {mse_rf}\")\n",
    "print(f\"Random Forest R-Squared: {r2_rf}\")"
   ]
  },
  {
   "cell_type": "markdown",
   "metadata": {},
   "source": [
    "# Model Building - XGBoost"
   ]
  },
  {
   "cell_type": "code",
   "execution_count": 19,
   "metadata": {},
   "outputs": [
    {
     "name": "stdout",
     "output_type": "stream",
     "text": [
      "XGBoost Mean Squared Error: 5039523.989361433\n",
      "XGBoost R-Squared: -0.039154995316537766\n"
     ]
    }
   ],
   "source": [
    "import xgboost as xgb\n",
    "\n",
    "# Initialize the XGBoost model\n",
    "xgb_model = xgb.XGBRegressor(objective ='reg:squarederror', n_estimators=100, random_state=42)\n",
    "\n",
    "# Train the model\n",
    "xgb_model.fit(X_train, y_train)\n",
    "\n",
    "# Make predictions using the test set\n",
    "y_pred_xgb = xgb_model.predict(X_test)\n",
    "\n",
    "# Evaluate the model\n",
    "mse_xgb = mean_squared_error(y_test, y_pred_xgb)\n",
    "r2_xgb = r2_score(y_test, y_pred_xgb)\n",
    "\n",
    "print(f\"XGBoost Mean Squared Error: {mse_xgb}\")\n",
    "print(f\"XGBoost R-Squared: {r2_xgb}\")\n"
   ]
  },
  {
   "cell_type": "markdown",
   "metadata": {},
   "source": [
    "# Decision tree"
   ]
  },
  {
   "cell_type": "code",
   "execution_count": 31,
   "metadata": {},
   "outputs": [
    {
     "name": "stdout",
     "output_type": "stream",
     "text": [
      "Decision Tree Mean Squared Error: 9349048.072277302\n",
      "Decision Tree R-Squared: -0.9277832641079313\n"
     ]
    }
   ],
   "source": [
    "from sklearn.tree import DecisionTreeRegressor\n",
    "from sklearn.metrics import mean_squared_error, r2_score\n",
    "\n",
    "# 1. Define and Train the Decision Tree Model\n",
    "dt_reg = DecisionTreeRegressor(random_state=42)\n",
    "dt_reg.fit(X_train, y_train)  # Train the Decision Tree model\n",
    "\n",
    "# 2. Make predictions using the testing set\n",
    "y_pred = dt_reg.predict(X_test)\n",
    "\n",
    "# 3. Evaluate the model\n",
    "mse = mean_squared_error(y_test, y_pred)  # Mean Squared Error\n",
    "r2 = r2_score(y_test, y_pred)  # R-Squared\n",
    "\n",
    "# 4. Print the evaluation results\n",
    "print(f\"Decision Tree Mean Squared Error: {mse}\")\n",
    "print(f\"Decision Tree R-Squared: {r2}\")\n"
   ]
  },
  {
   "cell_type": "markdown",
   "metadata": {},
   "source": [
    "# Model Comparison\n"
   ]
  },
  {
   "cell_type": "code",
   "execution_count": 32,
   "metadata": {},
   "outputs": [
    {
     "name": "stdout",
     "output_type": "stream",
     "text": [
      "Linear Regression MSE: 9349048.072277302, R²: -0.9277832641079313\n",
      "Random Forest MSE: 4837494.983934639, R²: 0.002503592008628708\n",
      "XGBoost MSE: 5039523.989361433, R²: -0.039154995316537766\n",
      "XGBoost MSE: 5039523.989361433, R²: -0.039154995316537766\n"
     ]
    }
   ],
   "source": [
    "print(f\"Linear Regression MSE: {mse}, R²: {r2}\")\n",
    "print(f\"Random Forest MSE: {mse_rf}, R²: {r2_rf}\")\n",
    "print(f\"XGBoost MSE: {mse_xgb}, R²: {r2_xgb}\")\n",
    "print(f\"XGBoost MSE: {mse_xgb}, R²: {r2_xgb}\")\n"
   ]
  }
 ],
 "metadata": {
  "kernelspec": {
   "display_name": "venv",
   "language": "python",
   "name": "python3"
  },
  "language_info": {
   "codemirror_mode": {
    "name": "ipython",
    "version": 3
   },
   "file_extension": ".py",
   "mimetype": "text/x-python",
   "name": "python",
   "nbconvert_exporter": "python",
   "pygments_lexer": "ipython3",
   "version": "3.12.3"
  }
 },
 "nbformat": 4,
 "nbformat_minor": 2
}
