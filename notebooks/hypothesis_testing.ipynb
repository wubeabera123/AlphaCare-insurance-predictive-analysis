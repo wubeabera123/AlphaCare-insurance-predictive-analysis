{
 "cells": [
  {
   "cell_type": "markdown",
   "metadata": {},
   "source": [
    "# Import the necessary libraries"
   ]
  },
  {
   "cell_type": "code",
   "execution_count": 8,
   "metadata": {},
   "outputs": [],
   "source": [
    "import pandas as pd\n",
    "import sys\n",
    "import os\n",
    "import matplotlib.pyplot as plt\n",
    "import seaborn as sns\n",
    "\n",
    "sys.path.append(os.path.abspath(os.path.join(os.getcwd(), '../scripts')))\n",
    "from load_data import Load_Data\n",
    "from fill_gender_based_on_title import Fill_gender_based_on_title\n",
    "from data_processor import DataProcessor\n",
    "from data_processor import HypothesisTester\n",
    "from data_processor import ReportGenerator\n",
    "\n"
   ]
  },
  {
   "cell_type": "markdown",
   "metadata": {},
   "source": [
    "# Load data"
   ]
  },
  {
   "cell_type": "code",
   "execution_count": 5,
   "metadata": {},
   "outputs": [
    {
     "name": "stderr",
     "output_type": "stream",
     "text": [
      "c:\\Users\\wubeshet.abera\\Projects\\Ten-Academy\\updated-insurance\\v3\\AlphaCare-insurance-predictive-analysis\\scripts\\load_data.py:11: DtypeWarning: Columns (32) have mixed types. Specify dtype option on import or set low_memory=False.\n",
      "  self.data = pd.read_csv(self.file_path)\n"
     ]
    },
    {
     "name": "stdout",
     "output_type": "stream",
     "text": [
      "Data successfully loaded from ../data/cleaned_data.csv\n"
     ]
    }
   ],
   "source": [
    "# Create an instance of CSVReader\n",
    "csv_reader = Load_Data('../data/cleaned_data.csv')\n",
    "\n",
    "# Load the data\n",
    "csv_reader.load_data()\n",
    "\n",
    "# Get the loaded data\n",
    "df = csv_reader.get_data()\n",
    "\n",
    "# Now, you can use raw_data as needed"
   ]
  },
  {
   "cell_type": "markdown",
   "metadata": {},
   "source": [
    "# Fill gender columns as male and female"
   ]
  },
  {
   "cell_type": "code",
   "execution_count": 6,
   "metadata": {},
   "outputs": [
    {
     "name": "stdout",
     "output_type": "stream",
     "text": [
      "Gender\n",
      "Male      934365\n",
      "Female     65733\n",
      "Name: count, dtype: int64\n",
      "['Gauteng' 'KwaZulu-Natal' 'Mpumalanga' 'Eastern Cape' 'Western Cape'\n",
      " 'Limpopo' 'North West' 'Free State' 'Northern Cape']\n"
     ]
    }
   ],
   "source": [
    "df = Fill_gender_based_on_title(df)\n",
    "\n",
    "# Remove duplicates from the 'Province' column\n",
    "df_unique = df.drop_duplicates(subset='Province')\n",
    "\n",
    "# Print unique values in the 'Province' column\n",
    "unique_provinces = df_unique['Province'].unique()\n",
    "print(unique_provinces)"
   ]
  },
  {
   "cell_type": "markdown",
   "metadata": {},
   "source": [
    "# A/B testing"
   ]
  },
  {
   "cell_type": "code",
   "execution_count": 9,
   "metadata": {},
   "outputs": [
    {
     "name": "stdout",
     "output_type": "stream",
     "text": [
      "\n",
      "A/B Hypothesis Testing Report\n",
      "========================================\n",
      "Hypothesis: Risk difference across provinces\n",
      "P-Value: 1.6782057588675903e-07\n",
      "Result: Reject the null hypothesis\n",
      "----------------------------------------\n",
      "\n"
     ]
    }
   ],
   "source": [
    "# Initialize DataProcessor\n",
    "data_processor = DataProcessor(df)\n",
    "\n",
    "# Select KPI (e.g., 'TotalClaims' or 'TotalPremium')\n",
    "kpi = 'TotalClaims'  # You only need to pass the column name\n",
    "\n",
    "# Segment data by multiple provinces (for testing risk differences across more than two provinces)\n",
    "group_conditions = {\n",
    "    'Gauteng': (df['Province'] == 'Gauteng'),\n",
    "    'KwaZulu-Natal': (df['Province'] == 'KwaZulu-Natal'),\n",
    "    'Western Cape': (df['Province'] == 'Western Cape'),  # Add as many provinces as needed\n",
    "    'Mpumalanga': (df['Province'] == 'Mpumalanga'),  # Add as many provinces as needed\n",
    "    'Limpopo': (df['Province'] == 'Limpopo'),  # Add as many provinces as needed\n",
    "    'North West': (df['Province'] == 'North West'),  # Add as many provinces as needed\n",
    "    'Free State': (df['Province'] == 'Free State'),  # Add as many provinces as needed\n",
    "    'Northern Cape': (df['Province'] == 'Northern Cape'),  # Add as many provinces as needed\n",
    "    'Eastern Cape': (df['Province'] == 'Eastern Cape')  # Add as many provinces as needed\n",
    "}\n",
    "\n",
    "# Segment data into multiple groups based on the provinces\n",
    "groups = data_processor.segment_data('Province', group_conditions)\n",
    "\n",
    "# Initialize the HypothesisTester\n",
    "tester = HypothesisTester()\n",
    "\n",
    "# Perform an ANOVA test between the groups on 'TotalClaims'\n",
    "p_value = tester.anova_test(groups, kpi)\n",
    "\n",
    "# Analyze the results\n",
    "result = tester.analyze_results(p_value)\n",
    "tester.add_result('Risk difference across provinces', p_value, result)\n",
    "\n",
    "# Generate the report\n",
    "report_generator = ReportGenerator(tester.results)\n",
    "report = report_generator.generate_report()\n",
    "print(report)\n"
   ]
  }
 ],
 "metadata": {
  "kernelspec": {
   "display_name": "venv",
   "language": "python",
   "name": "python3"
  },
  "language_info": {
   "codemirror_mode": {
    "name": "ipython",
    "version": 3
   },
   "file_extension": ".py",
   "mimetype": "text/x-python",
   "name": "python",
   "nbconvert_exporter": "python",
   "pygments_lexer": "ipython3",
   "version": "3.12.3"
  }
 },
 "nbformat": 4,
 "nbformat_minor": 2
}
