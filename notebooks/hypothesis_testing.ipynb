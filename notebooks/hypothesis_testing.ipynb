{
 "cells": [
  {
   "cell_type": "markdown",
   "metadata": {},
   "source": [
    "# Import the necessary libraries"
   ]
  },
  {
   "cell_type": "code",
   "execution_count": 20,
   "metadata": {},
   "outputs": [],
   "source": [
    "import pandas as pd\n",
    "import sys\n",
    "import os\n",
    "import matplotlib.pyplot as plt\n",
    "import seaborn as sns\n",
    "\n",
    "sys.path.append(os.path.abspath(os.path.join(os.getcwd(), '../scripts')))\n",
    "from load_data import Load_Data\n",
    "from fill_gender_based_on_title import Fill_gender_based_on_title\n",
    "from data_processor import DataProcessor\n",
    "from data_processor import HypothesisTester\n",
    "from data_processor import ReportGenerator\n",
    "from data_processor_for_postal_code import DataProcessor, Tester, ReportGenerator\n",
    "from margin_analysis import MarginAnalysis\n"
   ]
  },
  {
   "cell_type": "markdown",
   "metadata": {},
   "source": [
    "# Load data"
   ]
  },
  {
   "cell_type": "code",
   "execution_count": 11,
   "metadata": {},
   "outputs": [
    {
     "name": "stderr",
     "output_type": "stream",
     "text": [
      "c:\\Users\\wubeshet.abera\\Projects\\Ten-Academy\\updated-insurance\\v3\\AlphaCare-insurance-predictive-analysis\\scripts\\load_data.py:11: DtypeWarning: Columns (32) have mixed types. Specify dtype option on import or set low_memory=False.\n",
      "  self.data = pd.read_csv(self.file_path)\n"
     ]
    },
    {
     "name": "stdout",
     "output_type": "stream",
     "text": [
      "Data successfully loaded from ../data/cleaned_data.csv\n"
     ]
    }
   ],
   "source": [
    "# Create an instance of CSVReader\n",
    "csv_reader = Load_Data('../data/cleaned_data.csv')\n",
    "\n",
    "# Load the data\n",
    "csv_reader.load_data()\n",
    "\n",
    "# Get the loaded data\n",
    "df = csv_reader.get_data()\n",
    "\n",
    "# Now, you can use raw_data as needed"
   ]
  },
  {
   "cell_type": "markdown",
   "metadata": {},
   "source": [
    "# Fill gender columns as male and female"
   ]
  },
  {
   "cell_type": "code",
   "execution_count": 12,
   "metadata": {},
   "outputs": [
    {
     "name": "stdout",
     "output_type": "stream",
     "text": [
      "Gender\n",
      "Male      934365\n",
      "Female     65733\n",
      "Name: count, dtype: int64\n",
      "['Gauteng' 'KwaZulu-Natal' 'Mpumalanga' 'Eastern Cape' 'Western Cape'\n",
      " 'Limpopo' 'North West' 'Free State' 'Northern Cape']\n"
     ]
    }
   ],
   "source": [
    "df = Fill_gender_based_on_title(df)\n",
    "\n",
    "# Remove duplicates from the 'Province' column\n",
    "df_unique = df.drop_duplicates(subset='Province')\n",
    "\n",
    "# Print unique values in the 'Province' column\n",
    "unique_provinces = df_unique['Province'].unique()\n",
    "print(unique_provinces)"
   ]
  },
  {
   "cell_type": "markdown",
   "metadata": {},
   "source": [
    "# A/B testing for Province"
   ]
  },
  {
   "cell_type": "code",
   "execution_count": null,
   "metadata": {},
   "outputs": [],
   "source": [
    "# Initialize DataProcessor\n",
    "data_processor = DataProcessor(df)\n",
    "\n",
    "# Select KPI (e.g., 'TotalClaims' or 'TotalPremium')\n",
    "kpi = 'TotalClaims'  # You only need to pass the column name\n",
    "\n",
    "# Segment data by multiple provinces (for testing risk differences across more than two provinces)\n",
    "group_conditions = {\n",
    "    'Gauteng': (df['Province'] == 'Gauteng'),\n",
    "    'KwaZulu-Natal': (df['Province'] == 'KwaZulu-Natal'),\n",
    "    'Western Cape': (df['Province'] == 'Western Cape'),  # Add as many provinces as needed\n",
    "    'Mpumalanga': (df['Province'] == 'Mpumalanga'),  # Add as many provinces as needed\n",
    "    'Limpopo': (df['Province'] == 'Limpopo'),  # Add as many provinces as needed\n",
    "    'North West': (df['Province'] == 'North West'),  # Add as many provinces as needed\n",
    "    'Free State': (df['Province'] == 'Free State'),  # Add as many provinces as needed\n",
    "    'Northern Cape': (df['Province'] == 'Northern Cape'),  # Add as many provinces as needed\n",
    "    'Eastern Cape': (df['Province'] == 'Eastern Cape')  # Add as many provinces as needed\n",
    "}\n",
    "\n",
    "# Segment data into multiple groups based on the provinces\n",
    "groups = data_processor.segment_data('Province', group_conditions)\n",
    "\n",
    "# Initialize the HypothesisTester\n",
    "tester = HypothesisTester()\n",
    "\n",
    "# Perform an ANOVA test between the groups on 'TotalClaims'\n",
    "p_value = tester.anova_test(groups, kpi)\n",
    "\n",
    "# Analyze the results\n",
    "result = tester.analyze_results(p_value)\n",
    "tester.add_result('Risk difference across provinces', p_value, result)\n",
    "\n",
    "# Generate the report\n",
    "report_generator = ReportGenerator(tester.results)\n",
    "report = report_generator.generate_report()\n",
    "print(report)\n"
   ]
  },
  {
   "cell_type": "markdown",
   "metadata": {},
   "source": [
    "# A/B testing for Gender"
   ]
  },
  {
   "cell_type": "code",
   "execution_count": 9,
   "metadata": {},
   "outputs": [
    {
     "name": "stdout",
     "output_type": "stream",
     "text": [
      "\n",
      "A/B Hypothesis Testing Report\n",
      "========================================\n",
      "Hypothesis: Risk difference across provinces\n",
      "P-Value: 0.032120655336210946\n",
      "Result: Reject the null hypothesis\n",
      "\n"
     ]
    }
   ],
   "source": [
    "# Initialize DataProcessor\n",
    "data_processor = DataProcessor(df)\n",
    "\n",
    "# Select KPI (e.g., 'TotalClaims' or 'TotalPremium')\n",
    "kpi = 'TotalClaims'  # You only need to pass the column name\n",
    "\n",
    "# Segment data by multiple provinces (for testing risk differences across more than two provinces)\n",
    "group_conditions = {\n",
    "    'Male': (df['Gender'] == 'Male'),\n",
    "    'Female': (df['Gender'] == 'Female'),\n",
    "}\n",
    "\n",
    "# Segment data into multiple groups based on the provinces\n",
    "groups = data_processor.segment_data('Gender', group_conditions)\n",
    "\n",
    "# Initialize the HypothesisTester\n",
    "tester = HypothesisTester()\n",
    "\n",
    "# Perform an ANOVA test between the groups on 'TotalClaims'\n",
    "p_value = tester.anova_test(groups, kpi)\n",
    "\n",
    "# Analyze the results\n",
    "result = tester.analyze_results(p_value)\n",
    "tester.add_result('Risk difference across provinces', p_value, result)\n",
    "\n",
    "# Generate the report\n",
    "report_generator = ReportGenerator(tester.results)\n",
    "report = report_generator.generate_report()\n",
    "print(report)\n"
   ]
  },
  {
   "cell_type": "markdown",
   "metadata": {},
   "source": [
    "# A/B testing for Postalcode"
   ]
  },
  {
   "cell_type": "code",
   "execution_count": 14,
   "metadata": {},
   "outputs": [
    {
     "name": "stdout",
     "output_type": "stream",
     "text": [
      "Warning: Segmentation resulted in an empty group for 'nan'\n",
      "Description: T-Test between 1000-2000 and 2000-3000\n",
      "P-value: 0.020925106031974526\n",
      "Analysis Result: Significant difference\n",
      "\n",
      "Description: T-Test between 2000-3000 and 4000-5000\n",
      "P-value: 0.0641924603756658\n",
      "Analysis Result: No significant difference\n",
      "\n",
      "Description: T-Test between 4000-5000 and 6000-7000\n",
      "P-value: 0.03210287845961992\n",
      "Analysis Result: Significant difference\n",
      "\n",
      "Description: T-Test between 6000-7000 and 7000-8000\n",
      "P-value: 0.6739449548314396\n",
      "Analysis Result: No significant difference\n",
      "\n",
      "Description: T-Test between 7000-8000 and 9000-10000\n",
      "P-value: 0.6290348230367926\n",
      "Analysis Result: No significant difference\n",
      "\n",
      "Description: T-Test between 9000-10000 and 3000-4000\n",
      "P-value: 0.6603889348717926\n",
      "Analysis Result: No significant difference\n",
      "\n",
      "Description: T-Test between 3000-4000 and 5000-6000\n",
      "P-value: 0.3583236224498323\n",
      "Analysis Result: No significant difference\n",
      "\n",
      "Description: T-Test between 5000-6000 and 8000-9000\n",
      "P-value: 0.04858307600730958\n",
      "Analysis Result: Significant difference\n",
      "\n"
     ]
    }
   ],
   "source": [
    "\n",
    "# Prepare the data (bin the postal codes)\n",
    "df = prepare_data(df)\n",
    "\n",
    "# Instantiate the data processor\n",
    "data_processor = DataProcessor(df)\n",
    "\n",
    "# Define group conditions for segmenting the data based on postal code bins\n",
    "bin_labels = df['PostalCodeBin'].unique()\n",
    "group_conditions = {bin_label: (df['PostalCodeBin'] == bin_label) for bin_label in bin_labels}\n",
    "\n",
    "# Segment the data based on postal code bins\n",
    "groups = data_processor.segment_data('PostalCodeBin', group_conditions)\n",
    "\n",
    "# Instantiate the Tester for t-tests\n",
    "tester = Tester()\n",
    "\n",
    "# Perform pairwise T-Tests between postal code bins\n",
    "bin_labels = list(groups.keys())\n",
    "\n",
    "for i in range(len(bin_labels) - 1):\n",
    "    group1 = groups[bin_labels[i]]\n",
    "    group2 = groups[bin_labels[i + 1]]\n",
    "    \n",
    "    # Perform the t-test\n",
    "    p_value = tester.t_test(group1, group2, 'TotalClaims')\n",
    "    \n",
    "    # Analyze the results\n",
    "    result = tester.analyze_results(p_value)\n",
    "    description = f'T-Test between {bin_labels[i]} and {bin_labels[i + 1]}'\n",
    "    \n",
    "    # Add the result to the tester\n",
    "    tester.add_result(description, p_value, result)\n",
    "    \n",
    "    # Generate and display the report\n",
    "    report_generator = ReportGenerator(tester.results)\n",
    "    report = report_generator.generate_report()\n",
    "    print(report)\n",
    "    "
   ]
  },
  {
   "cell_type": "markdown",
   "metadata": {},
   "source": [
    "# A/B testing for margin (profit)"
   ]
  },
  {
   "cell_type": "code",
   "execution_count": 22,
   "metadata": {},
   "outputs": [
    {
     "name": "stdout",
     "output_type": "stream",
     "text": [
      "T-test p-value: 1.0\n",
      "Fail to reject the null hypothesis: There is no significant difference in margins between zip codes.\n",
      "ANOVA p-value: 0.7220963083946866\n",
      "Fail to reject the null hypothesis: There is no significant difference in margins across zip codes.\n"
     ]
    }
   ],
   "source": [
    "# Import necessary libraries\n",
    "import pandas as pd\n",
    "from scipy.stats import ttest_ind, f_oneway\n",
    "\n",
    "# Sample DataFrame\n",
    "df = pd.DataFrame({\n",
    "    'PostalCode': [8000, 8000, 9000, 9000, 10000, 10000],\n",
    "    'TotalPremium': [1000, 1500, 1200, 1600, 1100, 1300],\n",
    "    'TotalClaims': [500, 700, 600, 900, 500, 800]\n",
    "})\n",
    "\n",
    "# Calculate the margin\n",
    "df['Margin'] = df['TotalPremium'] - df['TotalClaims']\n",
    "\n",
    "# T-test for two zip codes (e.g., 8000 vs 9000)\n",
    "group_8000 = df[df['PostalCode'] == 8000]['Margin']\n",
    "group_9000 = df[df['PostalCode'] == 9000]['Margin']\n",
    "t_stat, p_value_ttest = ttest_ind(group_8000, group_9000, equal_var=False)\n",
    "\n",
    "# Analyze the result\n",
    "alpha = 0.05  # significance level\n",
    "if p_value_ttest < alpha:\n",
    "    result_ttest = \"Reject the null hypothesis: There is a significant difference in margins between zip codes.\"\n",
    "else:\n",
    "    result_ttest = \"Fail to reject the null hypothesis: There is no significant difference in margins between zip codes.\"\n",
    "\n",
    "# Display the results\n",
    "print(f\"T-test p-value: {p_value_ttest}\")\n",
    "print(result_ttest)\n",
    "\n",
    "# If there are more than two groups, use ANOVA\n",
    "groups = [df[df['PostalCode'] == code]['Margin'] for code in df['PostalCode'].unique()]\n",
    "f_stat, p_value_anova = f_oneway(*groups)\n",
    "\n",
    "# Analyze ANOVA result\n",
    "if p_value_anova < alpha:\n",
    "    result_anova = \"Reject the null hypothesis: There is a significant difference in margins across zip codes.\"\n",
    "else:\n",
    "    result_anova = \"Fail to reject the null hypothesis: There is no significant difference in margins across zip codes.\"\n",
    "\n",
    "# Display ANOVA results\n",
    "print(f\"ANOVA p-value: {p_value_anova}\")\n",
    "print(result_anova)\n"
   ]
  }
 ],
 "metadata": {
  "kernelspec": {
   "display_name": "venv",
   "language": "python",
   "name": "python3"
  },
  "language_info": {
   "codemirror_mode": {
    "name": "ipython",
    "version": 3
   },
   "file_extension": ".py",
   "mimetype": "text/x-python",
   "name": "python",
   "nbconvert_exporter": "python",
   "pygments_lexer": "ipython3",
   "version": "3.12.3"
  }
 },
 "nbformat": 4,
 "nbformat_minor": 2
}
